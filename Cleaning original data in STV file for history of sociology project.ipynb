{
 "cells": [
  {
   "cell_type": "markdown",
   "metadata": {},
   "source": [
    "***\n",
    "\n",
    "# Cleaning journal articles for history of sociology project\n",
    "\n",
    "\n",
    "***"
   ]
  },
  {
   "cell_type": "markdown",
   "metadata": {},
   "source": [
    "![marx](https://i2.wp.com/thecharnelhouse.org/wp-content/uploads/2014/12/karl-marx-friedrich-engels-en-la-imprenta-de-la-rheinische-zeitung-colonia-museo-marx-engels-moscc3ba-e29c86-e-chapiro-c2a9-c3b1c3a1ngara-marx1.jpg?fit=1200%2C749&ssl=1, width=300, height=300)"
   ]
  },
  {
   "cell_type": "code",
   "execution_count": 1,
   "metadata": {
    "collapsed": false
   },
   "outputs": [
    {
     "data": {
      "text/plain": [
       "(13738, 3)"
      ]
     },
     "execution_count": 1,
     "metadata": {},
     "output_type": "execute_result"
    }
   ],
   "source": [
    "import os\n",
    "import warnings\n",
    "warnings.filterwarnings('ignore') # only use this when you know the script and want to supress unnecessary warnings\n",
    "path = 'C:/Users/renswilderom/Documents/Dan Silver Projects/history of sociology'\n",
    "os.chdir(path)\n",
    "from pandas import DataFrame\n",
    "df = DataFrame.from_csv(\"stm_prep.tsv\", sep=\"\\t\")\n",
    "df.shape\n",
    "# 13738\n",
    "\n",
    "# keep first i rows\n",
    "#df_new = df[:5302]"
   ]
  },
  {
   "cell_type": "code",
   "execution_count": 2,
   "metadata": {
    "collapsed": false,
    "scrolled": true
   },
   "outputs": [
    {
     "data": {
      "text/plain": [
       "'Hatred as Ambivalence'"
      ]
     },
     "execution_count": 2,
     "metadata": {},
     "output_type": "execute_result"
    }
   ],
   "source": [
    "# print title or text in i-th row\n",
    "df.iloc[12870][1] # row i, column i\n",
    "\n",
    "# from row 0: AJS \n",
    "# from row 5303: ASR\n",
    "# from row 9493: European Journal of Social Theory \n",
    "# from row 9924: European Journal of Sociology  \n",
    "# from row 10743: Sociological Theory\n",
    "# from row 11349: Theory and Society\n",
    "# from row 12303: Theory, Culture and Society"
   ]
  },
  {
   "cell_type": "code",
   "execution_count": 3,
   "metadata": {
    "collapsed": true
   },
   "outputs": [],
   "source": [
    "# first remove all punctuation to create less (unnecessary) variation\n",
    "df['TEXT'] = df['TEXT'].str.replace('[^\\w\\s]', '')   "
   ]
  },
  {
   "cell_type": "markdown",
   "metadata": {},
   "source": [
    "***\n",
    "\n",
    "Now, some cleaing steps tailored for each journal. Journals in the dataset are: <br />\n",
    "<br />\n",
    "- from row 0: AJS <br />\n",
    "- from row 5303: ASR <br />\n",
    "- from row 9493: European Journal of Social Theory <br />\n",
    "- from row 9924: European Journal of Sociology <br />\n",
    "- from row 10743: Sociological Theory <br />\n",
    "- from row 11349: Theory and Society <br />\n",
    "- from row 12303: Theory, Culture and Society <br />\n",
    "\n",
    "\n",
    "***"
   ]
  },
  {
   "cell_type": "markdown",
   "metadata": {},
   "source": [
    "***\n",
    "\n",
    "### American Journal of sociology\n",
    "\n",
    "***"
   ]
  },
  {
   "cell_type": "code",
   "execution_count": 4,
   "metadata": {
    "collapsed": true
   },
   "outputs": [],
   "source": [
    "df['TEXT'] = df['TEXT'].str.replace('(^(?:(.*?)CHICAGO\\s+JOURNALS(.*?)Terms\\s+and\\s+Conditions))', '')"
   ]
  },
  {
   "cell_type": "code",
   "execution_count": 5,
   "metadata": {
    "collapsed": true
   },
   "outputs": [],
   "source": [
    "df['TEXT'] = df['TEXT'].str.replace('\\s+This\\s+content\\s+downloaded(.*?)Terms\\s+and\\s+Conditions', '')"
   ]
  },
  {
   "cell_type": "code",
   "execution_count": 6,
   "metadata": {
    "collapsed": false
   },
   "outputs": [],
   "source": [
    "df['TEXT'][:5302] = df['TEXT'][:5302].str.replace(r'^(.*?)\\b[A-Z]{3,}\\b', '') # deletes everything up to and including the first \n",
    "# capitalized word. Also check whether this does not deletes too much. Now only applied to AJS."
   ]
  },
  {
   "cell_type": "code",
   "execution_count": 7,
   "metadata": {
    "collapsed": true
   },
   "outputs": [],
   "source": [
    "df['TEXT'] = df['TEXT'].str.replace('(All\\s+use\\s+subject\\s+to\\s+University\\s+(.*?)tancic)', '') "
   ]
  },
  {
   "cell_type": "code",
   "execution_count": 8,
   "metadata": {
    "collapsed": true
   },
   "outputs": [],
   "source": [
    "df['TEXT'] = df['TEXT'].str.replace('(University|American\\s+Journal\\s+of\\s+Sociology)', '')"
   ]
  },
  {
   "cell_type": "markdown",
   "metadata": {},
   "source": [
    "***\n",
    "\n",
    "### American Sociological Review\n",
    "\n",
    "***"
   ]
  },
  {
   "cell_type": "code",
   "execution_count": 9,
   "metadata": {
    "collapsed": true
   },
   "outputs": [],
   "source": [
    "df['TEXT'] = df['TEXT'].str.replace('(JSOR|STOR|AMERICAN\\s+SOCIOLOGICAL\\s+REVIEW)', '') "
   ]
  },
  {
   "cell_type": "code",
   "execution_count": 10,
   "metadata": {
    "collapsed": true
   },
   "outputs": [],
   "source": [
    "df['TEXT'][5303:9492] = df['TEXT'][5303:9492].str.replace('(SAGE(.*?)[A-Z]{2,}\\s+[A-Z]{2,}\\s+[A-Z]{2,})', '') "
   ]
  },
  {
   "cell_type": "code",
   "execution_count": 11,
   "metadata": {
    "collapsed": true
   },
   "outputs": [],
   "source": [
    "df['TEXT'] = df['TEXT'].str.replace('(70301pagerq41)', '') "
   ]
  },
  {
   "cell_type": "code",
   "execution_count": 12,
   "metadata": {
    "collapsed": true
   },
   "outputs": [],
   "source": [
    "df['TEXT'] = df['TEXT'].str.replace('(70305ahmadjianq41)', '') "
   ]
  },
  {
   "cell_type": "code",
   "execution_count": 13,
   "metadata": {
    "collapsed": true
   },
   "outputs": [],
   "source": [
    "df['TEXT'] = df['TEXT'].str.replace('(06ASR374083(.*?)http\\s+asrsagepubcom)', '') \n",
    "# see wether this still works now punctatation is removed"
   ]
  },
  {
   "cell_type": "code",
   "execution_count": 14,
   "metadata": {
    "collapsed": true
   },
   "outputs": [],
   "source": [
    "df['TEXT'] = df['TEXT'].str.replace('(American\\s+Sociological\\s+Review|American\\s+Sociological\\s+Association|http\\s+\\s+asrsagepub.com|SAGE\\s+Academic\\s+Entrepreneurship\\s+and\\s+Exchange\\s+of\\s+Scientific\\s+Resources)', '') "
   ]
  },
  {
   "cell_type": "code",
   "execution_count": 15,
   "metadata": {
    "collapsed": true
   },
   "outputs": [],
   "source": [
    "df['TEXT'][5303:9492] = df['TEXT'][5303:9492].str.replace('(_ASR|http|asrsagepubcom)', '') "
   ]
  },
  {
   "cell_type": "markdown",
   "metadata": {
    "collapsed": true
   },
   "source": [
    "***\n",
    "\n",
    "### European Journal of Social Theory\n",
    "\n",
    "***"
   ]
  },
  {
   "cell_type": "code",
   "execution_count": 16,
   "metadata": {
    "collapsed": false
   },
   "outputs": [],
   "source": [
    "df['TEXT'] = df['TEXT'].str.replace('(^(?:(.*?)ropean\\s+Journal\\s+of\\s+Social\\s+Theory(.*?)New\\s+Delhi\\s+and\\s+Singapore))', '')"
   ]
  },
  {
   "cell_type": "code",
   "execution_count": 17,
   "metadata": {
    "collapsed": true
   },
   "outputs": [],
   "source": [
    "df['TEXT'] = df['TEXT'].str.replace('(^(?:(.*?)ropean\\s+Journal\\s+of\\s+Social\\s+Theory(.*?)New\\s+Delhi))', '') "
   ]
  },
  {
   "cell_type": "code",
   "execution_count": 18,
   "metadata": {
    "collapsed": true
   },
   "outputs": [],
   "source": [
    "df['TEXT'] = df['TEXT'].str.replace('(from\\s+the\\s+SAGE(.*?)All\\s+Rights\\s+Reserved)', '') "
   ]
  },
  {
   "cell_type": "code",
   "execution_count": 19,
   "metadata": {
    "collapsed": true
   },
   "outputs": [],
   "source": [
    "df['TEXT'] = df['TEXT'].str.replace('(02\\s+EST355865|European\\s+Journal\\s+of\\s+Social\\s+Theory|Reprints\\s+and\\s+permission|sagepubcoukjournalsPermissions.?|Singapore\\s+and\\s+Washington)', '') "
   ]
  },
  {
   "cell_type": "code",
   "execution_count": 20,
   "metadata": {
    "collapsed": true
   },
   "outputs": [],
   "source": [
    "df['TEXT'][9493:9924] = df['TEXT'][9493:9924].str.replace('(^(?:(.*?)DC))', '')\n",
    "# this step was causing a problem elsewhere, so it is now limited to EJST"
   ]
  },
  {
   "cell_type": "markdown",
   "metadata": {
    "collapsed": true
   },
   "source": [
    "***\n",
    "\n",
    "### European Journal of Sociology\n",
    "\n",
    "***"
   ]
  },
  {
   "cell_type": "code",
   "execution_count": 21,
   "metadata": {
    "collapsed": false
   },
   "outputs": [],
   "source": [
    "# Remove all EJS articles (due to German/French language problem)\n",
    "# See below"
   ]
  },
  {
   "cell_type": "markdown",
   "metadata": {},
   "source": [
    "***\n",
    "\n",
    "### Sociological Theory\n",
    "\n",
    "***"
   ]
  },
  {
   "cell_type": "code",
   "execution_count": 22,
   "metadata": {
    "collapsed": true
   },
   "outputs": [],
   "source": [
    "df['TEXT'] = df['TEXT'].str.replace('(Wiley(.*?)Terms\\s+and\\s+Conditions)', '') \n",
    "# The following is already cleaned in AJS: This\\s+content\\s+downloaded\\s+(.*?)\\s+Terms\\s+and\\s+Conditions "
   ]
  },
  {
   "cell_type": "code",
   "execution_count": 23,
   "metadata": {
    "collapsed": true
   },
   "outputs": [],
   "source": [
    "df['TEXT'] = df['TEXT'].str.replace('(Sociological\\s+Theory)', '') "
   ]
  },
  {
   "cell_type": "code",
   "execution_count": 24,
   "metadata": {
    "collapsed": true
   },
   "outputs": [],
   "source": [
    "df['TEXT'] = df['TEXT'].str.replace('(Dealing\\s+with\\s+Diversity\\s+Mapping\\s+Multiculturalism\\s+in\\s+Sociological\\s+Terms)', '') "
   ]
  },
  {
   "cell_type": "code",
   "execution_count": 25,
   "metadata": {
    "collapsed": true
   },
   "outputs": [],
   "source": [
    "df['TEXT'] = df['TEXT'].str.replace('(Downloaded/s+from/s+stxsagepubcom)', '') "
   ]
  },
  {
   "cell_type": "markdown",
   "metadata": {},
   "source": [
    "***\n",
    "\n",
    "### Theory and society\n",
    "\n",
    "***"
   ]
  },
  {
   "cell_type": "code",
   "execution_count": 26,
   "metadata": {
    "collapsed": true
   },
   "outputs": [],
   "source": [
    "df['TEXT'] = df['TEXT'].str.replace('(Springer(.*?)Terms\\s+and\\s+Conditions)', '') \n",
    "\n",
    "# The following is already cleaned in AJS: This\\s+content\\s+downloaded\\s+(.*?)\\s+Terms\\s+and\\s+Conditions "
   ]
  },
  {
   "cell_type": "code",
   "execution_count": 27,
   "metadata": {
    "collapsed": true
   },
   "outputs": [],
   "source": [
    "df['TEXT'] = df['TEXT'].str.replace('(Structuring\\s+the\\s+sexual\\s+revolution)', '') "
   ]
  },
  {
   "cell_type": "code",
   "execution_count": 28,
   "metadata": {
    "collapsed": true
   },
   "outputs": [],
   "source": [
    "df['TEXT'] = df['TEXT'].str.replace('(RYSO)', '') "
   ]
  },
  {
   "cell_type": "code",
   "execution_count": 29,
   "metadata": {
    "collapsed": true
   },
   "outputs": [],
   "source": [
    "df['TEXT'] = df['TEXT'].str.replace('(SJN(.*?)tex)', '') "
   ]
  },
  {
   "cell_type": "code",
   "execution_count": 30,
   "metadata": {
    "collapsed": true
   },
   "outputs": [],
   "source": [
    "df['TEXT'] = df['TEXT'].str.replace('(Theory\\s+and\\s+Society|Theor\\s+Soc|Springer)', '') "
   ]
  },
  {
   "cell_type": "code",
   "execution_count": 31,
   "metadata": {
    "collapsed": true
   },
   "outputs": [],
   "source": [
    "df['TEXT'] = df['TEXT'].str.replace('(Bakhtin\\s+and\\s+Habermas\\s+Toward\\s+a\\s+transcultural\\s+ethics)', '') "
   ]
  },
  {
   "cell_type": "markdown",
   "metadata": {},
   "source": [
    "***\n",
    "\n",
    "### Theory, Culture and Society\n",
    "\n",
    "***"
   ]
  },
  {
   "cell_type": "code",
   "execution_count": 32,
   "metadata": {
    "collapsed": false
   },
   "outputs": [],
   "source": [
    "df['TEXT'] = df['TEXT'].str.replace('(Theory\\s+Culture\\s+and\\s+Society)', '') "
   ]
  },
  {
   "cell_type": "code",
   "execution_count": 33,
   "metadata": {
    "collapsed": true
   },
   "outputs": [],
   "source": [
    "df['TEXT'] = df['TEXT'].str.replace('(156\\s+x\\s+234mm)', '') "
   ]
  },
  {
   "cell_type": "code",
   "execution_count": 34,
   "metadata": {
    "collapsed": true
   },
   "outputs": [],
   "source": [
    "# this step is useful for multiple journals, but needs to be placed here (otherwise some of the above won't work)\n",
    "df['TEXT'] = df['TEXT'].str.replace('(This\\s+content\\s+downloaded\\s+(.*?)\\s+Terms\\s+and\\s+Conditions)', '') "
   ]
  },
  {
   "cell_type": "code",
   "execution_count": 35,
   "metadata": {
    "collapsed": true
   },
   "outputs": [],
   "source": [
    "df['TEXT'] = df['TEXT'].str.replace('(Theory\\s+Culture\\s+SC\\s+Society|Theory\\s+Culture\\s+Society|Theory\\s+Culture\\s+St\\s+Society|TheoryCulturesSociety|Theory\\s+I\\s+Culture\\s+Society)', '') "
   ]
  },
  {
   "cell_type": "code",
   "execution_count": 36,
   "metadata": {
    "collapsed": false
   },
   "outputs": [],
   "source": [
    "df['TEXT'] = df['TEXT'].str.replace('(^\\d+x\\d+mm)', '') "
   ]
  },
  {
   "cell_type": "code",
   "execution_count": 37,
   "metadata": {
    "collapsed": true
   },
   "outputs": [],
   "source": [
    "df['TEXT'] = df['TEXT'].str.replace('(This\\s+commentary\\s+is\\s+part(.*?)theoryculturesocietyorg)', '') "
   ]
  },
  {
   "cell_type": "code",
   "execution_count": 38,
   "metadata": {
    "collapsed": false,
    "scrolled": true
   },
   "outputs": [
    {
     "data": {
      "text/plain": [
       "(13726, 3)"
      ]
     },
     "execution_count": 38,
     "metadata": {},
     "output_type": "execute_result"
    }
   ],
   "source": [
    "# Row number 12402 contains a nearly empty article in the original data file. \n",
    "# Row numbers 12940, 12942, 12944, 12946, 12948, 12950, 12952, 12954, 12956, 12990, 12994 are duplicates in Th., Cul., and Soc.\n",
    "df1 = df\n",
    "df1 = df1[df1.TITLE != \"Scenes from the Life of a Knight\"]\n",
    "df1 = df1[df1.TITLE != \"Anamnesis copy\"]\n",
    "df1 = df1[df1.TITLE != \"Artworks Networks copy\"]\n",
    "df1 = df1[df1.TITLE != \"Auto Couture copy\"]\n",
    "df1 = df1[df1.TITLE != \"Automobility and National copy\"]\n",
    "df1 = df1[df1.TITLE != \"Automotive Emotions copy\"]\n",
    "df1 = df1[df1.TITLE != \"Cars and Nations copy\"]\n",
    "df1 = df1[df1.TITLE != \"Collective Feelings copy\"]\n",
    "df1 = df1[df1.TITLE != \"Configuring Reception copy\"]\n",
    "df1 = df1[df1.TITLE != \"Derivatives copy\"]\n",
    "df1 = df1[df1.TITLE != \"Collective Memory and Forgetting\"]\n",
    "df1 = df1[df1.TITLE != \"Complexity and Social\"]\n",
    "df1.shape"
   ]
  },
  {
   "cell_type": "markdown",
   "metadata": {},
   "source": [
    "***\n",
    "\n",
    "### Drop EJS articles\n",
    "\n",
    "***"
   ]
  },
  {
   "cell_type": "code",
   "execution_count": 39,
   "metadata": {
    "collapsed": false
   },
   "outputs": [
    {
     "data": {
      "text/plain": [
       "(12907, 3)"
      ]
     },
     "execution_count": 39,
     "metadata": {},
     "output_type": "execute_result"
    }
   ],
   "source": [
    "# Drop EJS articles\n",
    "df2 = df1.drop(df1.index[9924:10743])\n",
    "df2.shape"
   ]
  },
  {
   "cell_type": "markdown",
   "metadata": {},
   "source": [
    "***\n",
    "\n",
    "### Finally, some general cleaning steps\n",
    "**Removing captitalized words, digits, punctuation, and put everything in lower case.** \n",
    "<br />\n",
    "<br />\n",
    "\n",
    "***"
   ]
  },
  {
   "cell_type": "code",
   "execution_count": 40,
   "metadata": {
    "collapsed": true
   },
   "outputs": [],
   "source": [
    "# its necessary to strip accents in topic model vectorizer\n",
    "\n",
    "# remove all captitalized words\n",
    "df2['TEXT'] = df2['TEXT'].str.replace('[A-Z]{3,}', '')\n",
    "\n",
    "# remove each digit \n",
    "df2['TEXT'] = df2['TEXT'].str.replace('\\d+', '') \n",
    "\n",
    "# everything in lower case\n",
    "df2['TEXT'] = df2['TEXT'].str.lower()\n",
    "\n",
    "# keep words of three characters or more\n",
    "df2['TEXT'] = df2['TEXT'].str.replace(r'(\\b\\w{1,2}\\b)', '')\n",
    "\n",
    "# remove general journal lingo and journal make-up\n",
    "df2['TEXT'] = df2['TEXT'].str.replace(r'(author|abstract|volume\\s+\\d+|volume\\s+number|key\\s+words|doi|article|professor|copyright|\\bvol\\b|press|http|online|stsagepubcom|stxsagepubcom|cambridge|chicago|journal|oxford|princeton|harvard|review|california|department|/beds/b|sage|stanford|boston|annual|wwwjournalsuchicagoedutandc|estsagepubcom|november|special\\s+issue|special\\s+section|theory\\s+culturel _society|tcspubcom|download|downloaded|wwwjoumalsuedutandc|infoaboutpoliciestermsjsp|wwwjstororgstable|wwwjstororgpage|accessed|notforprofit|jstororg|jstor|digitize|\\batu\\b|\\breçu\\b|\\bres\\b|\\bjan\\b|\\bfeb\\b|\\bmar\\b|\\bapr\\b|\\bmay\\b|\\bjun\\b|\\bjul\\b|\\baug\\b|\\bsep\\b|\\boct\\b|\\bnov\\b|\\bdec\\b)', '') \n",
    "\n",
    "# remove leading white space\n",
    "df2['TEXT'] = df2['TEXT'].str.lstrip(' ') # when I remove all multiple white spaces, some words get connected to each other."
   ]
  },
  {
   "cell_type": "code",
   "execution_count": 41,
   "metadata": {
    "collapsed": true
   },
   "outputs": [],
   "source": [
    "# Save data frame as xlsx and csv file\n",
    "from pandas import ExcelWriter\n",
    "\n",
    "writer = ExcelWriter('stm_prep_clean_9.xlsx')\n",
    "df2.to_excel(writer,'Sheet1')\n",
    "writer.save()"
   ]
  },
  {
   "cell_type": "markdown",
   "metadata": {},
   "source": [
    "***\n",
    "\n",
    "### Notes and draft code\n",
    "\n",
    "\n",
    "\n",
    "***"
   ]
  },
  {
   "cell_type": "code",
   "execution_count": null,
   "metadata": {
    "collapsed": true
   },
   "outputs": [],
   "source": [
    "# Below are the cleaning steps originally made for European Journal of Sociologie."
   ]
  },
  {
   "cell_type": "code",
   "execution_count": null,
   "metadata": {
    "collapsed": true
   },
   "outputs": [],
   "source": [
    "# df['TEXT'] = df['TEXT'].str.replace('(CambridgeUNIVERSITY\\s+PRESS(.*?)\\s+Terms\\s+and\\s+Conditions)', '') "
   ]
  },
  {
   "cell_type": "code",
   "execution_count": null,
   "metadata": {
    "collapsed": true
   },
   "outputs": [],
   "source": [
    "# df['TEXT'] = df['TEXT'].str.replace('(Laundering\\s+8220\\s+money\\s+8221)', '') "
   ]
  },
  {
   "cell_type": "code",
   "execution_count": null,
   "metadata": {
    "collapsed": true
   },
   "outputs": [],
   "source": [
    "# df['TEXT'] = df['TEXT'].str.replace('(Analytical\\s+Sociology\\s+and\\s+Its\\s+Critics)', '') "
   ]
  },
  {
   "cell_type": "code",
   "execution_count": null,
   "metadata": {
    "collapsed": true
   },
   "outputs": [],
   "source": [
    "# df['TEXT'] = df['TEXT'].str.replace('(on\\s+the\\s+need\\s+for\\s+conceptual\\s+clarity\\s+within\\s+the\\s+sociology\\s+of\\s+money)', '') "
   ]
  },
  {
   "cell_type": "code",
   "execution_count": null,
   "metadata": {
    "collapsed": true
   },
   "outputs": [],
   "source": [
    "# df2.to_csv('stm_prep_clean_9.csv', sep=';', encoding='utf-8') "
   ]
  },
  {
   "cell_type": "markdown",
   "metadata": {},
   "source": [
    "Notes:\n",
    "\n",
    "* European Journal of Social Theory is English only, however, the European Journal of Sociology has untill the early-2000s many French and German articles (especially in the early period from the 1960s, whene there are sometimes over 50% of the articles not in English). \n"
   ]
  }
 ],
 "metadata": {
  "kernelspec": {
   "display_name": "Python 3",
   "language": "python",
   "name": "python3"
  },
  "language_info": {
   "codemirror_mode": {
    "name": "ipython",
    "version": 3
   },
   "file_extension": ".py",
   "mimetype": "text/x-python",
   "name": "python",
   "nbconvert_exporter": "python",
   "pygments_lexer": "ipython3",
   "version": "3.6.0"
  }
 },
 "nbformat": 4,
 "nbformat_minor": 2
}
